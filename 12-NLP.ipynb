{
 "cells": [
  {
   "cell_type": "code",
   "execution_count": 9,
   "id": "7a993e51",
   "metadata": {},
   "outputs": [
    {
     "name": "stdout",
     "output_type": "stream",
     "text": [
      "Nouns:  NLP contribute intelligence\n",
      "Adjectives:  equips good vast textual intelligent language-related artificial\n",
      "Overall sentiment score of ajdectives:  Sentiment(polarity=0.225, subjectivity=0.875)\n"
     ]
    }
   ],
   "source": [
    "# Finding only the individual Nouns and adjective chunks\n",
    "import nltk\n",
    "from textblob import TextBlob\n",
    "#sampleSentence = '''This is a very good book, felt really nice reading it.'''\n",
    "#sampleSentence = '''Ravi is a bad leader, he misguides the team too often'''\n",
    "sampleSentence=''' Learning NLP equips individuals good with skills \n",
    "to analyze vast amounts of textual data, build intelligent chatbots, \n",
    "automate language-related tasks, and contribute to groundbreaking \n",
    "advancements in fields like artificial intelligence and linguistics '''\n",
    "sampleSentence = nltk.word_tokenize(sampleSentence)\n",
    "sampleSentencePOS = nltk.pos_tag(sampleSentence)\n",
    "#Find Nouns or proper Nouns\n",
    "OnlyNouns = (\" \").join([POStags[0] for POStags in sampleSentencePOS if POStags[1] in ['NN','NNP']])\n",
    "# Find only Adjectives\n",
    "OnlyAdjectives= (\" \").join([POStags[0] for POStags in sampleSentencePOS if POStags[1] in ['JJ','JJR','JJS']])\n",
    "print ('Nouns: ', OnlyNouns)\n",
    "print ('Adjectives: ', OnlyAdjectives)\n",
    "print('Overall sentiment score of ajdectives: ',TextBlob(OnlyAdjectives).sentiment)\n"
   ]
  },
  {
   "cell_type": "code",
   "execution_count": 7,
   "id": "bfa73023",
   "metadata": {},
   "outputs": [
    {
     "name": "stdout",
     "output_type": "stream",
     "text": [
      "Defaulting to user installation because normal site-packages is not writeable\n",
      "Collecting textblob\n",
      "  Downloading textblob-0.17.1-py2.py3-none-any.whl (636 kB)\n",
      "     ---------------------------------------- 0.0/636.8 kB ? eta -:--:--\n",
      "     ----------- -------------------------- 194.6/636.8 kB 5.8 MB/s eta 0:00:01\n",
      "     ------------------------------ ------- 512.0/636.8 kB 6.4 MB/s eta 0:00:01\n",
      "     -------------------------------------- 636.8/636.8 kB 5.7 MB/s eta 0:00:00\n",
      "Requirement already satisfied: nltk>=3.1 in c:\\programdata\\anaconda3\\lib\\site-packages (from textblob) (3.7)\n",
      "Requirement already satisfied: click in c:\\programdata\\anaconda3\\lib\\site-packages (from nltk>=3.1->textblob) (8.0.4)\n",
      "Requirement already satisfied: joblib in c:\\programdata\\anaconda3\\lib\\site-packages (from nltk>=3.1->textblob) (1.1.1)\n",
      "Requirement already satisfied: regex>=2021.8.3 in c:\\programdata\\anaconda3\\lib\\site-packages (from nltk>=3.1->textblob) (2022.7.9)\n",
      "Requirement already satisfied: tqdm in c:\\programdata\\anaconda3\\lib\\site-packages (from nltk>=3.1->textblob) (4.64.1)\n",
      "Requirement already satisfied: colorama in c:\\programdata\\anaconda3\\lib\\site-packages (from click->nltk>=3.1->textblob) (0.4.6)\n",
      "Installing collected packages: textblob\n",
      "Successfully installed textblob-0.17.1\n"
     ]
    },
    {
     "name": "stderr",
     "output_type": "stream",
     "text": [
      "\n",
      "[notice] A new release of pip is available: 23.3.1 -> 23.3.2\n",
      "[notice] To update, run: python.exe -m pip install --upgrade pip\n"
     ]
    }
   ],
   "source": [
    "!pip install textblob"
   ]
  }
 ],
 "metadata": {
  "kernelspec": {
   "display_name": "Python 3 (ipykernel)",
   "language": "python",
   "name": "python3"
  },
  "language_info": {
   "codemirror_mode": {
    "name": "ipython",
    "version": 3
   },
   "file_extension": ".py",
   "mimetype": "text/x-python",
   "name": "python",
   "nbconvert_exporter": "python",
   "pygments_lexer": "ipython3",
   "version": "3.10.9"
  }
 },
 "nbformat": 4,
 "nbformat_minor": 5
}
