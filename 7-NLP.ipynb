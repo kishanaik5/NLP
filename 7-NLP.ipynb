{
 "cells": [
  {
   "cell_type": "code",
   "execution_count": 10,
   "id": "a6ef8575",
   "metadata": {},
   "outputs": [
    {
     "name": "stderr",
     "output_type": "stream",
     "text": [
      "[nltk_data] Downloading package punkt to\n",
      "[nltk_data]     C:\\Users\\user\\AppData\\Roaming\\nltk_data...\n",
      "[nltk_data]   Package punkt is already up-to-date!\n",
      "[nltk_data] Downloading package averaged_perceptron_tagger to\n",
      "[nltk_data]     C:\\Users\\user\\AppData\\Roaming\\nltk_data...\n",
      "[nltk_data]   Unzipping taggers\\averaged_perceptron_tagger.zip.\n",
      "[nltk_data] Downloading package wordnet to\n",
      "[nltk_data]     C:\\Users\\user\\AppData\\Roaming\\nltk_data...\n",
      "[nltk_data]   Package wordnet is already up-to-date!\n"
     ]
    },
    {
     "name": "stdout",
     "output_type": "stream",
     "text": [
      "['I', 'and', 'goose', 'with', 'in', 'that', '.', 'In', 'of', 'that', 'there', 'an', 'with', 'full', 'of', 'on', 'the']\n"
     ]
    }
   ],
   "source": [
    "import nltk\n",
    "from nltk.tokenize import word_tokenize\n",
    "from nltk.corpus import wordnet\n",
    "from nltk.stem import WordNetLemmatizer\n",
    "nltk.download('punkt')\n",
    "nltk.download('averaged_perceptron_tagger')\n",
    "nltk.download('wordnet')\n",
    "# define an method\n",
    "def morphological_analysis(text):\n",
    "    # Tokenize the text into words\n",
    "    words = word_tokenize(text)\n",
    "    # Perform part-of-speech tagging\n",
    "    pos_tags = nltk.pos_tag(words)\n",
    "    # Initialize the WordNet lemmatizer\n",
    "    lemmatizer = WordNetLemmatizer()\n",
    "    # Perform lemmatization based on part-of-speech tags\n",
    "    lemmatized_words = []\n",
    "    for word, pos in pos_tags:\n",
    "        pos_category = pos[0].lower()\n",
    "        pos_category = pos_category if pos_category in ['a', 'n', 'v', 'r'] else None\n",
    "        if pos_category:\n",
    "            lemma = lemmatizer.lemmatize(word, pos=pos_category)\n",
    "        else:\n",
    "            lemma = lemmatizer.lemmatize(word)\n",
    "            lemmatized_words.append(lemma)\n",
    "    return lemmatized_words\n",
    "# Example usage\n",
    "text = \"I saw birds and geese playing with boxes in that room. In Front of that room there is an garden with full of flowers on the plant made artificially\"\n",
    "result = morphological_analysis(text)\n",
    "print(result)"
   ]
  },
  {
   "cell_type": "code",
   "execution_count": null,
   "id": "bd529a3e",
   "metadata": {},
   "outputs": [],
   "source": []
  }
 ],
 "metadata": {
  "kernelspec": {
   "display_name": "Python 3 (ipykernel)",
   "language": "python",
   "name": "python3"
  },
  "language_info": {
   "codemirror_mode": {
    "name": "ipython",
    "version": 3
   },
   "file_extension": ".py",
   "mimetype": "text/x-python",
   "name": "python",
   "nbconvert_exporter": "python",
   "pygments_lexer": "ipython3",
   "version": "3.10.9"
  }
 },
 "nbformat": 4,
 "nbformat_minor": 5
}
