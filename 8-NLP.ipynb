{
 "cells": [
  {
   "cell_type": "code",
   "execution_count": 7,
   "id": "5cdc6188",
   "metadata": {},
   "outputs": [
    {
     "name": "stdout",
     "output_type": "stream",
     "text": [
      "Original Sentence: Morphological analysis is important for natural language processing.\n",
      "\n",
      "Porter Stems: ['morpholog', 'analysi', 'is', 'import', 'for', 'natur', 'languag', 'process', '.']\n",
      "Lancaster Stems: ['morpholog', 'analys', 'is', 'import', 'for', 'nat', 'langu', 'process', '.']\n",
      "Snowball Stems: ['morpholog', 'analysi', 'is', 'import', 'for', 'natur', 'languag', 'process', '.']\n",
      "WordNet Lemmas: ['Morphological', 'analysis', 'is', 'important', 'for', 'natural', 'language', 'processing', '.']\n"
     ]
    }
   ],
   "source": [
    "import nltk\n",
    "from nltk.tokenize import word_tokenize\n",
    "from nltk.stem import PorterStemmer, LancasterStemmer, SnowballStemmer, WordNetLemmatizer\n",
    "# define an method\n",
    "def morphological_analysis(sentence):\n",
    "    words = word_tokenize(sentence)\n",
    "    # Porter Stemmer\n",
    "    porter_stemmer = PorterStemmer()\n",
    "    porter_stems = [porter_stemmer.stem(word) for word in words]\n",
    "    # Lancaster Stemmer\n",
    "    lancaster_stemmer = LancasterStemmer()\n",
    "    lancaster_stems = [lancaster_stemmer.stem(word) for word in words]\n",
    "    # Snowball Stemmer\n",
    "    snowball_stemmer = SnowballStemmer('english')\n",
    "    snowball_stems = [snowball_stemmer.stem(word) for word in words]\n",
    "    # WordNet Lemmatizer\n",
    "    lemmatizer = WordNetLemmatizer()\n",
    "    lemmas = [lemmatizer.lemmatize(word) for word in words]\n",
    "    print(\"Original Sentence:\", sentence)\n",
    "    print(\"\\nPorter Stems:\", porter_stems)\n",
    "    print(\"Lancaster Stems:\", lancaster_stems)\n",
    "    print(\"Snowball Stems:\", snowball_stems)\n",
    "    print(\"WordNet Lemmas:\", lemmas)\n",
    "    # Example usage\n",
    "sentence = \"Morphological analysis is important for natural language processing.\"\n",
    "morphological_analysis(sentence)"
   ]
  },
  {
   "cell_type": "code",
   "execution_count": 5,
   "id": "350c263f",
   "metadata": {},
   "outputs": [
    {
     "name": "stderr",
     "output_type": "stream",
     "text": [
      "[nltk_data] Downloading package omw-1.4 to\n",
      "[nltk_data]     C:\\Users\\user\\AppData\\Roaming\\nltk_data...\n"
     ]
    },
    {
     "data": {
      "text/plain": [
       "True"
      ]
     },
     "execution_count": 5,
     "metadata": {},
     "output_type": "execute_result"
    }
   ],
   "source": [
    "import nltk\n",
    "nltk.download('omw-1.4')"
   ]
  }
 ],
 "metadata": {
  "kernelspec": {
   "display_name": "Python 3 (ipykernel)",
   "language": "python",
   "name": "python3"
  },
  "language_info": {
   "codemirror_mode": {
    "name": "ipython",
    "version": 3
   },
   "file_extension": ".py",
   "mimetype": "text/x-python",
   "name": "python",
   "nbconvert_exporter": "python",
   "pygments_lexer": "ipython3",
   "version": "3.10.9"
  }
 },
 "nbformat": 4,
 "nbformat_minor": 5
}
