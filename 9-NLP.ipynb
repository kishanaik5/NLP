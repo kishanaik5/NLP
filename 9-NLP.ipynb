{
 "cells": [
  {
   "cell_type": "code",
   "execution_count": 2,
   "id": "1e37a3d2",
   "metadata": {},
   "outputs": [
    {
     "data": {
      "text/plain": [
       "[(('neural', 'network'), 4),\n",
       " (('convolutional', 'neural'), 2),\n",
       " (('network', 'similar'), 1),\n",
       " (('similar', 'ordinary'), 1),\n",
       " (('ordinary', 'neural'), 1)]"
      ]
     },
     "execution_count": 2,
     "metadata": {},
     "output_type": "execute_result"
    }
   ],
   "source": [
    "from collections import Counter\n",
    "from nltk import word_tokenize\n",
    "from nltk.util import ngrams\n",
    "from nltk.stem import WordNetLemmatizer\n",
    "from nltk.corpus import stopwords\n",
    "stop_words = set(stopwords.words('english'))\n",
    "doc_1 = 'Convolutional Neural Networks are very similar to ordinary Neural Networks from the previous chapter'\n",
    "doc_2 = 'Convolutional Neural Networks take advantage of the fact that the input consists of images and they constrain the architecture in a more sensible way.'\n",
    "doc_3 = 'In particular, unlike a regular Neural Network, the layers of a ConvNet have neurons arranged in 3 dimensions: width, height, depth.'\n",
    "docs = [doc_1, doc_2, doc_3]\n",
    "docs = (' '.join(filter(None, docs))).lower()\n",
    "tokens = word_tokenize(docs)\n",
    "tokens = [t for t in tokens if t not in stop_words]\n",
    "word_l = WordNetLemmatizer()\n",
    "tokens = [word_l.lemmatize(t) for t in tokens if t.isalpha()]\n",
    "bi_grams = list(ngrams(tokens, 2))\n",
    "counter = Counter(bi_grams)\n",
    "counter.most_common(5)"
   ]
  },
  {
   "cell_type": "code",
   "execution_count": null,
   "id": "4515a694",
   "metadata": {},
   "outputs": [],
   "source": []
  }
 ],
 "metadata": {
  "kernelspec": {
   "display_name": "Python 3 (ipykernel)",
   "language": "python",
   "name": "python3"
  },
  "language_info": {
   "codemirror_mode": {
    "name": "ipython",
    "version": 3
   },
   "file_extension": ".py",
   "mimetype": "text/x-python",
   "name": "python",
   "nbconvert_exporter": "python",
   "pygments_lexer": "ipython3",
   "version": "3.10.9"
  }
 },
 "nbformat": 4,
 "nbformat_minor": 5
}
