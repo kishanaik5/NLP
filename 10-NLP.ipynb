{
 "cells": [
  {
   "cell_type": "code",
   "execution_count": 1,
   "id": "809576cf",
   "metadata": {},
   "outputs": [
    {
     "name": "stdout",
     "output_type": "stream",
     "text": [
      "False\n"
     ]
    }
   ],
   "source": [
    "non_terminals = [\"NP\", \"Nom\", \"Det\", \"AP\", \"Adv\", \"A\"]\n",
    "terminals = [\"book\", \"orange\", \"man\", \"tall\", \"heavy\", \"very\",\"muscular\"]\n",
    "R = {\"NP\": [[\"Det\", \"Nom\"]],\"Nom\": [[\"AP\", \"Nom\"], [\"book\"], [\"orange\"], [\"man\"]],\n",
    " \"AP\": [[\"Adv\", \"A\"], [\"heavy\"], [\"orange\"], [\"tall\"]],\n",
    "\"Det\": [[\"a\"]],\"Adv\": [[\"very\"], [\"extremely\"]],\n",
    "\"A\": [[\"heavy\"], [\"orange\"], [\"tall\"], [\"muscular\"]]}\n",
    "def cykParse(w):\n",
    "    n = len(w)\n",
    "    T = [[set([]) for j in range(n)] for i in range(n)]\n",
    "    for j in range(0, n):\n",
    "        for lhs, rule in R.items():\n",
    "            for rhs in rule:\n",
    "                if len(rhs) == 1 and rhs[0] == w[j]:\n",
    "                    T[j][j].add(lhs)\n",
    "        for i in range(j, -1, -1):\n",
    "            for k in range(i, j + 1):\n",
    "                for lhs, rule in R.items():\n",
    "                    for rhs in rule:\n",
    "                        if len(rhs) == 2 and rhs[0] in T[i][k] and rhs[1] in T[k + 1][j]:\n",
    "                            T[i][j].add(lhs)\n",
    "    if len(T[0][n-1]) != 0:\n",
    "        print(\"True\")\n",
    "    else:\n",
    "        print(\"False\")\n",
    "w = \"a very tall red man\".split()\n",
    "cykParse(w)"
   ]
  }
 ],
 "metadata": {
  "kernelspec": {
   "display_name": "Python 3 (ipykernel)",
   "language": "python",
   "name": "python3"
  },
  "language_info": {
   "codemirror_mode": {
    "name": "ipython",
    "version": 3
   },
   "file_extension": ".py",
   "mimetype": "text/x-python",
   "name": "python",
   "nbconvert_exporter": "python",
   "pygments_lexer": "ipython3",
   "version": "3.10.9"
  }
 },
 "nbformat": 4,
 "nbformat_minor": 5
}
