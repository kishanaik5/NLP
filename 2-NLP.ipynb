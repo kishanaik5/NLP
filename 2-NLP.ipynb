{
 "cells": [
  {
   "cell_type": "code",
   "execution_count": 3,
   "id": "3adcf901",
   "metadata": {},
   "outputs": [
    {
     "name": "stdout",
     "output_type": "stream",
     "text": [
      "Enter the list size 3\n",
      "Enter number at index 0\n",
      "2\n",
      "Enter number at index 1\n",
      "2\n",
      "Enter number at index 2\n",
      "3\n",
      "User list is  [2, 2, 3]\n",
      "Original list:\n",
      "[2, 2, 3]\n",
      "Check two occurrences of nineteen and at least three occurrences of five in the said list:\n",
      "False\n"
     ]
    }
   ],
   "source": [
    "nums = []\n",
    "n = int(input(\"Enter the list size \"))\n",
    "for i in range(0, n):\n",
    "    print(\"Enter number at index\", i)\n",
    "    item = int(input())\n",
    "    nums.append(item)\n",
    "print(\"User list is \", nums)\n",
    "def test(nums):\n",
    "    return nums.count(19) == 2 and nums.count(5) >= 3\n",
    "print(\"Original list:\")\n",
    "print(nums)\n",
    "print(\"Check two occurrences of nineteen and at least three occurrences of five in the said list:\")\n",
    "print(test(nums))"
   ]
  },
  {
   "cell_type": "code",
   "execution_count": 4,
   "id": "d7a87aa5",
   "metadata": {},
   "outputs": [
    {
     "name": "stdout",
     "output_type": "stream",
     "text": [
      "Sentence after removing stopwords: ['The', 'sun', 'rises', 'east']\n"
     ]
    },
    {
     "name": "stderr",
     "output_type": "stream",
     "text": [
      "[nltk_data] Downloading package stopwords to\n",
      "[nltk_data]     C:\\Users\\user\\AppData\\Roaming\\nltk_data...\n",
      "[nltk_data]   Package stopwords is already up-to-date!\n"
     ]
    },
    {
     "data": {
      "text/plain": [
       "['The sun', 'sun rises', 'rises east']"
      ]
     },
     "execution_count": 4,
     "metadata": {},
     "output_type": "execute_result"
    }
   ],
   "source": [
    "import nltk\n",
    "from nltk.corpus import stopwords\n",
    "nltk.download('stopwords')\n",
    "#define a method\n",
    "def generate_N_grams(text,ngram=1):\n",
    "    words=[word for word in text.split(\" \") if word not in set(stopwords.words('english'))] \n",
    "    print(\"Sentence after removing stopwords:\",words)\n",
    "    temp=zip(*[words[i:] for i in range(0,ngram)])\n",
    "    ans=[' '.join(ngram) for ngram in temp]\n",
    "    return ans\n",
    "generate_N_grams(\"The sun rises in the east\",2)\n"
   ]
  }
 ],
 "metadata": {
  "kernelspec": {
   "display_name": "Python 3 (ipykernel)",
   "language": "python",
   "name": "python3"
  },
  "language_info": {
   "codemirror_mode": {
    "name": "ipython",
    "version": 3
   },
   "file_extension": ".py",
   "mimetype": "text/x-python",
   "name": "python",
   "nbconvert_exporter": "python",
   "pygments_lexer": "ipython3",
   "version": "3.10.9"
  }
 },
 "nbformat": 4,
 "nbformat_minor": 5
}
