{
 "cells": [
  {
   "cell_type": "code",
   "execution_count": 1,
   "id": "11eb2ab3",
   "metadata": {},
   "outputs": [
    {
     "name": "stdout",
     "output_type": "stream",
     "text": [
      "Enter the list size 3\n",
      "Enter number at index 0\n",
      "5\n",
      "Enter number at index 1\n",
      "5\n",
      "Enter number at index 2\n",
      "12\n",
      "User list is  [5, 5, 12]\n",
      "Original list:\n",
      "[5, 5, 12]\n",
      "Check two occurrences of nineteen and at least three occurrences of five in the said list:\n",
      "False\n"
     ]
    }
   ],
   "source": [
    "nums = []\n",
    "n = int(input(\"Enter the list size \"))\n",
    "for i in range(0, n):\n",
    "    print(\"Enter number at index\", i)\n",
    "    item = int(input())\n",
    "    nums.append(item)\n",
    "print(\"User list is \", nums)\n",
    "def test(nums):\n",
    "    return nums.count(19) == 2 and nums.count(5) >= 3\n",
    "print(\"Original list:\")\n",
    "print(nums)\n",
    "print(\"Check two occurrences of nineteen and at least three occurrences of five in the said list:\")\n",
    "print(test(nums))"
   ]
  },
  {
   "cell_type": "code",
   "execution_count": 3,
   "id": "a3f77487",
   "metadata": {},
   "outputs": [
    {
     "name": "stdout",
     "output_type": "stream",
     "text": [
      "['There', 'is', 'a', 'man', 'on', 'the', 'hill', ',', 'and', 'I', 'watched', 'him', 'with', 'my', 'telescope', '.']\n",
      "[('There', 'EX'), ('is', 'VBZ'), ('a', 'DT'), ('man', 'NN'), ('on', 'IN'), ('the', 'DT'), ('hill', 'NN'), (',', ','), ('and', 'CC'), ('I', 'PRP'), ('watched', 'VBD'), ('him', 'PRP'), ('with', 'IN'), ('my', 'PRP$'), ('telescope', 'NN'), ('.', '.')]\n",
      "(S\n",
      "  There/EX\n",
      "  is/VBZ\n",
      "  (NP a/DT man/NN)\n",
      "  on/IN\n",
      "  (NP the/DT hill/NN)\n",
      "  ,/,\n",
      "  and/CC\n",
      "  I/PRP\n",
      "  watched/VBD\n",
      "  him/PRP\n",
      "  with/IN\n",
      "  my/PRP$\n",
      "  (NP telescope/NN)\n",
      "  ./.)\n"
     ]
    }
   ],
   "source": [
    "import nltk\n",
    "text = \"There is a man on the hill, and I watched him with my telescope. \"\n",
    "tokens = nltk.word_tokenize(text)\n",
    "print(tokens)\n",
    "tag = nltk.pos_tag(tokens)\n",
    "print(tag)\n",
    "grammar = \"NP: {<DT>?<JJ>*<NN>}\"\n",
    "cp =nltk.RegexpParser(grammar)\n",
    "result = cp.parse(tag)\n",
    "print(result)\n",
    "result.draw()\n"
   ]
  }
 ],
 "metadata": {
  "kernelspec": {
   "display_name": "Python 3 (ipykernel)",
   "language": "python",
   "name": "python3"
  },
  "language_info": {
   "codemirror_mode": {
    "name": "ipython",
    "version": 3
   },
   "file_extension": ".py",
   "mimetype": "text/x-python",
   "name": "python",
   "nbconvert_exporter": "python",
   "pygments_lexer": "ipython3",
   "version": "3.10.9"
  }
 },
 "nbformat": 4,
 "nbformat_minor": 5
}
