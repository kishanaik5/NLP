{
 "cells": [
  {
   "cell_type": "code",
   "execution_count": 1,
   "id": "592eabea",
   "metadata": {},
   "outputs": [
    {
     "data": {
      "text/plain": [
       "['elonmusk', 'teslarati', 'dummy_tesla', 'dummy_2_tesla']"
      ]
     },
     "execution_count": 1,
     "metadata": {},
     "output_type": "execute_result"
    }
   ],
   "source": [
    "import re\n",
    "text = ''' Follow our leader Elon musk on twitter here: https://twitter.com/elonmusk, more \n",
    "information on Tesla's products can be found at https://www.tesla.com/. Also here are leading \n",
    "influencers for tesla related news,\n",
    "https://twitter.com/teslarati\n",
    "https://twitter.com/dummy_tesla\n",
    "https://twitter.com/dummy_2_tesla\n",
    "'''\n",
    "pattern = 'https://twitter\\.com/([a-zA-Z0-9_]+)'\n",
    "re.findall(pattern, text)"
   ]
  },
  {
   "cell_type": "code",
   "execution_count": null,
   "id": "b93d9156",
   "metadata": {},
   "outputs": [],
   "source": []
  },
  {
   "cell_type": "code",
   "execution_count": 2,
   "id": "4895b245",
   "metadata": {},
   "outputs": [
    {
     "data": {
      "text/plain": [
       "{'age': 50,\n",
       " 'name': 'Elon Reeve Musk',\n",
       " 'birth_date': 'June 28, 1971',\n",
       " 'birth_place': 'Pretoria, Transvaal, South Africa'}"
      ]
     },
     "execution_count": 2,
     "metadata": {},
     "output_type": "execute_result"
    }
   ],
   "source": [
    "import re\n",
    "text='''\n",
    "Born Elon Reeve Musk\n",
    "June 28, 1971 (age 50)\n",
    "Pretoria, Transvaal, South Africa\n",
    "Citizenship\n",
    "South Africa (1971–present)\n",
    "Canada (1971–present)\n",
    "United States (2002–present)\n",
    "Education University of Pennsylvania (BS, BA)\n",
    "Title \n",
    "Founder, CEO and Chief Engineer of SpaceX\n",
    "CEO and product architect of Tesla, Inc.\n",
    "Founder of The Boring Company and X.com (now part of PayPal)\n",
    "Co-founder of Neuralink, OpenAI, and Zip2\n",
    "Spouse(s)\n",
    "Justine Wilson\n",
    "(m. 2000; div. 2008)\n",
    "Talulah Riley\n",
    "(m. 2010; div. 2012)\n",
    "(m. 2013; div. 2016)\n",
    "'''\n",
    "\n",
    "def get_pattern_match(pattern, text):\n",
    " matches = re.findall(pattern, text)\n",
    " if matches:\n",
    "     return matches[0]\n",
    "\n",
    "def extract_personal_information(text):\n",
    "    age = get_pattern_match('age (\\d+)', text)\n",
    "    full_name = get_pattern_match('Born(.*)\\n', text)\n",
    "    birth_date = get_pattern_match('Born.*\\n(.*)\\(age', text)\n",
    "    birth_place = get_pattern_match('\\(age.*\\n(.*)', text)\n",
    "    return {\n",
    "     'age': int(age),\n",
    "     'name': full_name.strip(),\n",
    "     'birth_date': birth_date.strip(),\n",
    "     'birth_place': birth_place.strip()\n",
    "    }\n",
    "extract_personal_information(text)"
   ]
  },
  {
   "cell_type": "code",
   "execution_count": null,
   "id": "eae24c45",
   "metadata": {},
   "outputs": [],
   "source": []
  },
  {
   "cell_type": "code",
   "execution_count": 7,
   "id": "2e0096e3",
   "metadata": {},
   "outputs": [
    {
     "name": "stdout",
     "output_type": "stream",
     "text": [
      "46\n",
      "['There', 'is', 'a', 'man', 'on', 'the', 'hill', ',', 'and', 'I', 'watched', 'him', 'with', 'my', 'telescope', '.', 'There', 'is', 'a', 'man', 'on', 'the', 'hill', ',', 'and', 'he', 'has', 'a', 'telescope', '.', 'I', '’', 'm', 'on', 'a', 'hill', ',', 'and', 'I', 'saw', 'a', 'man', 'using', 'my', 'telescope', '.']\n",
      "['i', 'me', 'my', 'myself', 'we', 'our', 'ours', 'ourselves', 'you', \"you're\", \"you've\", \"you'll\", \"you'd\", 'your', 'yours', 'yourself', 'yourselves', 'he', 'him', 'his', 'himself', 'she', \"she's\", 'her', 'hers', 'herself', 'it', \"it's\", 'its', 'itself', 'they', 'them', 'their', 'theirs', 'themselves', 'what', 'which', 'who', 'whom', 'this', 'that', \"that'll\", 'these', 'those', 'am', 'is', 'are', 'was', 'were', 'be', 'been', 'being', 'have', 'has', 'had', 'having', 'do', 'does', 'did', 'doing', 'a', 'an', 'the', 'and', 'but', 'if', 'or', 'because', 'as', 'until', 'while', 'of', 'at', 'by', 'for', 'with', 'about', 'against', 'between', 'into', 'through', 'during', 'before', 'after', 'above', 'below', 'to', 'from', 'up', 'down', 'in', 'out', 'on', 'off', 'over', 'under', 'again', 'further', 'then', 'once', 'here', 'there', 'when', 'where', 'why', 'how', 'all', 'any', 'both', 'each', 'few', 'more', 'most', 'other', 'some', 'such', 'no', 'nor', 'not', 'only', 'own', 'same', 'so', 'than', 'too', 'very', 's', 't', 'can', 'will', 'just', 'don', \"don't\", 'should', \"should've\", 'now', 'd', 'll', 'm', 'o', 're', 've', 'y', 'ain', 'aren', \"aren't\", 'couldn', \"couldn't\", 'didn', \"didn't\", 'doesn', \"doesn't\", 'hadn', \"hadn't\", 'hasn', \"hasn't\", 'haven', \"haven't\", 'isn', \"isn't\", 'ma', 'mightn', \"mightn't\", 'mustn', \"mustn't\", 'needn', \"needn't\", 'shan', \"shan't\", 'shouldn', \"shouldn't\", 'wasn', \"wasn't\", 'weren', \"weren't\", 'won', \"won't\", 'wouldn', \"wouldn't\"]\n",
      "['there', 'is', 'a', 'man', 'on', 'the', 'hill', 'and', 'i', 'watched', 'him', 'with', 'my', 'telescope', 'there', 'is', 'a', 'man', 'on', 'the', 'hill', 'and', 'he', 'has', 'a', 'telescope', 'i', 'm', 'on', 'a', 'hill', 'and', 'i', 'saw', 'a', 'man', 'using', 'my', 'telescope']\n",
      "39\n",
      "['man', 'hill', 'watched', 'telescope', 'man', 'hill', 'telescope', 'hill', 'saw', 'man', 'using', 'telescope']\n",
      "12\n"
     ]
    },
    {
     "data": {
      "image/png": "[encoded data removed]",
      "text/plain": [
       "<Figure size 640x480 with 1 Axes>"
      ]
     },
     "metadata": {},
     "output_type": "display_data"
    },
    {
     "data": {
      "text/plain": [
       "<Axes: xlabel='Samples', ylabel='Counts'>"
      ]
     },
     "execution_count": 7,
     "metadata": {},
     "output_type": "execute_result"
    }
   ],
   "source": [
    "import nltk\n",
    "from nltk import word_tokenize\n",
    "#Input data\n",
    "text=\"\"\" There is a man on the hill, and I watched him with my telescope. There is a man on the hill, and he has a telescope. I’m on a hill, and I saw a man using my telescope.\"\"\"\n",
    "#word Tokenize\n",
    "words=word_tokenize(text)\n",
    "print(len(words))\n",
    "print(words)\n",
    "\n",
    "#Stop Words\n",
    "from nltk.corpus import stopwords\n",
    "Stopwords=stopwords.words(\"english\")\n",
    "print(Stopwords)\n",
    "#removal of punctuation\n",
    "word_no_pun=[]\n",
    "for w in words:\n",
    "    if w.isalpha():\n",
    "        word_no_pun.append(w.lower())\n",
    "print(word_no_pun)\n",
    "print(len(word_no_pun))\n",
    "#removal of stop words\n",
    "clean_words=[]\n",
    "for w in word_no_pun:\n",
    "    if w not in Stopwords:\n",
    "        clean_words.append(w)\n",
    "print(clean_words)\n",
    "print(len(clean_words))\n",
    "from nltk.probability import FreqDist\n",
    "fdist = FreqDist(clean_words)\n",
    "fdist.most_common(10)\n",
    "fdist.plot(10)\n"
   ]
  },
  {
   "cell_type": "code",
   "execution_count": null,
   "id": "d26db9ac",
   "metadata": {},
   "outputs": [],
   "source": []
  }
 ],
 "metadata": {
  "kernelspec": {
   "display_name": "Python 3 (ipykernel)",
   "language": "python",
   "name": "python3"
  },
  "language_info": {
   "codemirror_mode": {
    "name": "ipython",
    "version": 3
   },
   "file_extension": ".py",
   "mimetype": "text/x-python",
   "name": "python",
   "nbconvert_exporter": "python",
   "pygments_lexer": "ipython3",
   "version": "3.10.9"
  }
 },
 "nbformat": 4,
 "nbformat_minor": 5
}
